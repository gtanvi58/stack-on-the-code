{
  "nbformat": 4,
  "nbformat_minor": 0,
  "metadata": {
    "colab": {
      "provenance": [],
      "authorship_tag": "ABX9TyPavhhYVatgsnOIRnriAdME",
      "include_colab_link": true
    },
    "kernelspec": {
      "name": "python3",
      "display_name": "Python 3"
    },
    "language_info": {
      "name": "python"
    }
  },
  "cells": [
    {
      "cell_type": "markdown",
      "metadata": {
        "id": "view-in-github",
        "colab_type": "text"
      },
      "source": [
        "<a href=\"https://colab.research.google.com/github/gtanvi58/stack-on-the-code/blob/master/stackonthecodellmwithoutranking.ipynb\" target=\"_parent\"><img src=\"https://colab.research.google.com/assets/colab-badge.svg\" alt=\"Open In Colab\"/></a>"
      ]
    },
    {
      "cell_type": "code",
      "execution_count": null,
      "metadata": {
        "id": "5WXiS9mZquak"
      },
      "outputs": [],
      "source": [
        "import pandas as pd\n",
        "import itertools\n",
        "import json\n",
        "\n",
        "# Read JSON file\n",
        "with open('/Users/rithikaflorianjohnson/Downloads/answers.json', 'r') as file:\n",
        "    data = json.load(file)\n",
        "\n",
        "# Initialize lists to store extracted data\n",
        "owner_reputation = []\n",
        "score = []\n",
        "body_text = []\n",
        "\n",
        "# Extract data from JSON\n",
        "for post in data:\n",
        "    owner_reputation.append(post['owner']['reputation'])\n",
        "    score.append(post['score'])\n",
        "    body_text.append(post['body'])\n",
        "\n",
        "# Split body text into code and non-code parts\n",
        "code_snippets = []\n",
        "non_code_texts = []\n",
        "\n",
        "for text in body_text:\n",
        "    code = \"\"\n",
        "    non_code = \"\"\n",
        "    in_code_block = False\n",
        "\n",
        "    for line in text.split('\\n'):\n",
        "        if line.strip().startswith(\"<pre\"):\n",
        "            in_code_block = True\n",
        "        elif line.strip().startswith(\"</pre>\"):\n",
        "            in_code_block = False\n",
        "        elif in_code_block:\n",
        "            code += line + \"\\n\"\n",
        "        else:\n",
        "            non_code += line + \"\\n\"\n",
        "\n",
        "    code_snippets.append(code.strip())\n",
        "    non_code_texts.append(non_code.strip())\n",
        "\n",
        "\n",
        "\n",
        "normalized_reputation = [(rep - min(owner_reputation)) / (max(owner_reputation) - min(owner_reputation)) for rep in owner_reputation]\n",
        "normalized_score = [(scr - min(score)) / (max(score) - min(score)) if scr != 0 else 0 for scr in score]\n",
        "\n",
        "# Hardcoded weights for reputation and score\n",
        "reputation_weight = 0.3\n",
        "score_weight = 0.7\n",
        "\n",
        "# Calculate combined scores using normalized reputation and score values\n",
        "combined_scores = []\n",
        "for rep, scr in zip(normalized_reputation, normalized_score):\n",
        "    if scr == 0:\n",
        "        combined_scores.append(0)\n",
        "    else:\n",
        "        combined_scores.append(reputation_weight * rep + score_weight * scr)\n",
        "\n",
        "\n",
        "\n",
        "\n",
        "\n",
        "# Create DataFrame\n",
        "df = pd.DataFrame({\n",
        "    'Owner Reputation': owner_reputation,\n",
        "    'Score': score,\n",
        "    'Post':body_text,\n",
        "    'Code Snippet': code_snippets,\n",
        "    'Text': non_code_texts,\n",
        "    'Rank': combined_scores\n",
        "})\n",
        "\n",
        "# Sort DataFrame by rank\n",
        "df = df.sort_values(by='Rank', ascending=True)\n",
        "\n",
        "# Reset index\n",
        "#df.reset_index(drop=True, inplace=True)\n",
        "\n",
        "# Display DataFrame\n",
        "\n"
      ]
    },
    {
      "cell_type": "code",
      "source": [
        "top3=df[:3]\n",
        "top3"
      ],
      "metadata": {
        "id": "gdwsdiWCq3ax"
      },
      "execution_count": null,
      "outputs": []
    },
    {
      "cell_type": "code",
      "source": [
        "# Load model directly\n",
        "from transformers import AutoTokenizer, AutoModelForSeq2SeqLM\n",
        "\n",
        "tokenizer = AutoTokenizer.from_pretrained(\"sshleifer/distilbart-cnn-12-6\")\n",
        "model = AutoModelForSeq2SeqLM.from_pretrained(\"sshleifer/distilbart-cnn-12-6\")"
      ],
      "metadata": {
        "id": "c9r3bQDFrDix"
      },
      "execution_count": null,
      "outputs": []
    },
    {
      "cell_type": "code",
      "source": [
        "def generate_summary(model, tokenizer, code, max_length=1024):\n",
        "    # Generate summary for the entire code\n",
        "    input_ids = tokenizer(code, return_tensors=\"pt\", max_length=max_length, truncation=True).input_ids\n",
        "    summary_ids = model.generate(input_ids, max_length=max_length)\n",
        "    summary = tokenizer.decode(summary_ids[0], skip_special_tokens=True)\n",
        "    return summary\n"
      ],
      "metadata": {
        "id": "n2tvX0SurF-7"
      },
      "execution_count": null,
      "outputs": []
    },
    {
      "cell_type": "code",
      "source": [
        "bodies = list(top3['Post'])\n",
        "codes = list(top3['Code Snippet'])\n",
        "\n",
        "for body, code in zip(bodies, codes):\n",
        "    full_summary = generate_summary(model, tokenizer, body)\n",
        "    print(\"Full Summary:\")\n",
        "    print(full_summary + \"\\n\" + 'Code from the Post' + \"\\n\"+ code)\n",
        "    print()"
      ],
      "metadata": {
        "id": "XRrvEn4rrH3w"
      },
      "execution_count": null,
      "outputs": []
    }
  ]
}